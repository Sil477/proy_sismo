{
 "cells": [
  {
   "cell_type": "code",
   "execution_count": 2,
   "id": "25824ae0",
   "metadata": {},
   "outputs": [],
   "source": [
    "import pandas as pd\n",
    "import numpy as np\n",
    "   \n",
    " "
   ]
  },
  {
   "cell_type": "code",
   "execution_count": null,
   "id": "6a2d5c08",
   "metadata": {},
   "outputs": [],
   "source": [
    "  # Datos de ejemplo (reemplazar con la ruta real del archivo)\n",
    "archivo_entrada = 'data/raw/TRVA.201502.E.N.Z.txt'\n",
    "   -9990 -9206 -13443\n",
    "   -10032 -9333 -13335\n",
    "   -10073 -9454 -13223\n",
    "   -10124 -9567 -13106\n",
    "   ...\n",
    "   \"\"\"  # Usamos un string multilínea para los datos de ejemplo\n",
    "   \n",
    "   from io import StringIO\n",
    "   \n",
    "   data_file = StringIO(data) # Convertimos el string en un \"archivo\"\n",
    "   \n",
    "   # Leer los datos desde el string\n",
    "   df = pd.read_csv(data_file, sep='\\s+', header=None)\n",
    "   \n",
    "   # Nombrar las columnas\n",
    "   df.columns = ['E', 'N', 'Z']\n",
    "   \n",
    "   # Generar la columna de tiempo\n",
    "   inicio_tiempo = pd.to_datetime('2015-02-01 00:00:00')\n",
    "   frecuencia_muestreo = 40  # Hz\n",
    "   num_registros = len(df)\n",
    "   \n",
    "   df['Tiempo'] = pd.date_range(start=inicio_tiempo, periods=num_registros, freq=f'{1/frecuencia_muestreo}S')\n",
    "   \n",
    "   # Mostrar las primeras filas del DataFrame\n",
    "   print(df.head())\n",
    "   \n",
    "   # Mostrar información del DataFrame\n",
    "   print(df.info())"
   ]
  }
 ],
 "metadata": {
  "kernelspec": {
   "display_name": "Python 3 (ipykernel)",
   "language": "python",
   "name": "python3"
  },
  "language_info": {
   "codemirror_mode": {
    "name": "ipython",
    "version": 3
   },
   "file_extension": ".py",
   "mimetype": "text/x-python",
   "name": "python",
   "nbconvert_exporter": "python",
   "pygments_lexer": "ipython3",
   "version": "3.11.7"
  }
 },
 "nbformat": 4,
 "nbformat_minor": 5
}
